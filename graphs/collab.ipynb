{
 "cells": [
  {
   "cell_type": "code",
   "execution_count": 36,
   "id": "b5731010",
   "metadata": {},
   "outputs": [],
   "source": [
    "import altair as alt\n",
    "import pandas as pd"
   ]
  },
  {
   "cell_type": "code",
   "execution_count": 40,
   "id": "0e30482c",
   "metadata": {},
   "outputs": [],
   "source": [
    "df = pd.DataFrame.from_dict(\n",
    "    {\n",
    "    'name':[\n",
    "        'Sergei Kosakovsky Pond',\n",
    "        'Kateryna Makova',\n",
    "        'Mike Schatz',\n",
    "        'Jeremy Goecks',\n",
    "        'James Taylor',\n",
    "        'Daniel Blankenberg',\n",
    "        'Björn Grüning',\n",
    "        'Andrew Lonie',\n",
    "        'Ross Lazarus',\n",
    "        'Gareth Price',\n",
    "        'Giulio Formenti'\n",
    "    ],\n",
    "    'city':[\n",
    "        'Philadelphia, PA, USA',\n",
    "        'State College, PA, USA',\n",
    "        'Baltimore, MD, USA',\n",
    "        'Portland, OR, USA',\n",
    "        'Baltimore, MD, USA',\n",
    "        'Cleveland, OH, USA',\n",
    "        'Frieburg, Germany',\n",
    "        'Melbourne, Australia',\n",
    "        'Sydney, Australia',\n",
    "        'Brisbane, Australia',\n",
    "        'New York, NY, USA'\n",
    "    ],\n",
    "    'inst':[\n",
    "        'Temple', \n",
    "        'Penn State',\n",
    "        'Johns Hopkins',\n",
    "        'OHSU',\n",
    "        'Johns Hopkins',\n",
    "        'Cleveland Clinic',\n",
    "        'Albert-Ludwigs-Universität Freiburg',\n",
    "        'University of Melbourne',\n",
    "        'galaxyproject.org',\n",
    "        'University of Queensland',\n",
    "        'The Rockefeller University'\n",
    "    ],\n",
    "    'url':[\n",
    "        'https://igem.temple.edu/people/person/e266d9a5b7f043109baecc3c340491f6',\n",
    "        'http://www.bx.psu.edu/makova_lab/',\n",
    "        'https://schatz-lab.org/',\n",
    "        'https://goeckslab.org/',\n",
    "        'https://jxtxfoundation.org/',\n",
    "        'https://www.lerner.ccf.org/gmi/blankenberg/',\n",
    "        'https://github.com/bgruening',\n",
    "        'https://www.melbournebioinformatics.org.au/people/andrew-lonie/',\n",
    "        'https://au.linkedin.com/in/rosslazarus',\n",
    "        'https://www.qcif.edu.au/team/gareth-price/',\n",
    "        'https://www.linkedin.com/in/giulio-formenti-20a8668a/'\n",
    "    ],\n",
    "    'lat':[\n",
    "        39.98075860123002,\n",
    "        40.798365676745384,\n",
    "        39.330092152960816,\n",
    "        45.498707826473236,\n",
    "        39.330092152960816,\n",
    "        42.76395117876627,\n",
    "        47.994467870512366,\n",
    "        -37.79807459499058,\n",
    "        -33.88909291137382,\n",
    "        -27.51498036745412, \n",
    "        40.762641570219785, \n",
    "\n",
    "    ],\n",
    "    'long':[\n",
    "        -75.1557590587867,\n",
    "        -77.86000346471721,\n",
    "        -76.62053915879434,\n",
    "        -122.68548555752069,\n",
    "        -76.62053915879434,\n",
    "        -81.58921274683716,\n",
    "        7.84479610073435,\n",
    "        144.96089889725928,\n",
    "        151.27649412491448,\n",
    "        153.0302753079642,\n",
    "        -73.95565474469537\n",
    "    ]\n",
    "    }\n",
    ")"
   ]
  },
  {
   "cell_type": "code",
   "execution_count": 41,
   "id": "0998208e-37fa-4e20-9e4d-2f2249255e61",
   "metadata": {},
   "outputs": [],
   "source": [
    "df['ln']=df['name'].str.split(\" \").str[1]"
   ]
  },
  {
   "cell_type": "code",
   "execution_count": 44,
   "id": "a357c094-a6f7-4287-9dd6-093a0abf2183",
   "metadata": {},
   "outputs": [],
   "source": [
    "def combine(row):\n",
    "    return '[{}]({})'.format(row['name'],row['url'])"
   ]
  },
  {
   "cell_type": "code",
   "execution_count": 45,
   "id": "9888d63f-029f-4ed0-86f8-b82aab6d03dd",
   "metadata": {},
   "outputs": [],
   "source": [
    "df['linked']=df.apply(combine,axis=1)"
   ]
  },
  {
   "cell_type": "code",
   "execution_count": 52,
   "id": "1f1308a7",
   "metadata": {},
   "outputs": [
    {
     "name": "stdout",
     "output_type": "stream",
     "text": [
      "| linked                                                                                           | city                   | inst                                |\n",
      "|:-------------------------------------------------------------------------------------------------|:-----------------------|:------------------------------------|\n",
      "| [Daniel Blankenberg](https://www.lerner.ccf.org/gmi/blankenberg/)                                | Cleveland, OH, USA     | Cleveland Clinic                    |\n",
      "| [Giulio Formenti](https://www.linkedin.com/in/giulio-formenti-20a8668a/)                         | New York, NY, USA      | The Rockefeller University          |\n",
      "| [Jeremy Goecks](https://goeckslab.org/)                                                          | Portland, OR, USA      | OHSU                                |\n",
      "| [Björn Grüning](https://github.com/bgruening)                                                    | Frieburg, Germany      | Albert-Ludwigs-Universität Freiburg |\n",
      "| [Sergei Kosakovsky Pond](https://igem.temple.edu/people/person/e266d9a5b7f043109baecc3c340491f6) | Philadelphia, PA, USA  | Temple                              |\n",
      "| [Ross Lazarus](https://au.linkedin.com/in/rosslazarus)                                           | Sydney, Australia      | galaxyproject.org                   |\n",
      "| [Andrew Lonie](https://www.melbournebioinformatics.org.au/people/andrew-lonie/)                  | Melbourne, Australia   | University of Melbourne             |\n",
      "| [Kateryna Makova](http://www.bx.psu.edu/makova_lab/)                                             | State College, PA, USA | Penn State                          |\n",
      "| [Gareth Price](https://www.qcif.edu.au/team/gareth-price/)                                       | Brisbane, Australia    | University of Queensland            |\n",
      "| [Mike Schatz](https://schatz-lab.org/)                                                           | Baltimore, MD, USA     | Johns Hopkins                       |\n",
      "| [James Taylor](https://jxtxfoundation.org/)                                                      | Baltimore, MD, USA     | Johns Hopkins                       |\n"
     ]
    }
   ],
   "source": [
    "print(df.sort_values(by='ln')[['linked','city','inst']].to_markdown(index=False))"
   ]
  },
  {
   "cell_type": "code",
   "execution_count": 53,
   "id": "24dc686d",
   "metadata": {},
   "outputs": [
    {
     "name": "stderr",
     "output_type": "stream",
     "text": [
      "/home/anton/miniconda3/envs/jp/lib/python3.10/site-packages/altair/utils/core.py:317: FutureWarning: iteritems is deprecated and will be removed in a future version. Use .items instead.\n",
      "  for col_name, dtype in df.dtypes.iteritems():\n"
     ]
    },
    {
     "data": {
      "text/html": [
       "\n",
       "<div id=\"altair-viz-ac90a6869a104f6d9e65d66194a578a7\"></div>\n",
       "<script type=\"text/javascript\">\n",
       "  var VEGA_DEBUG = (typeof VEGA_DEBUG == \"undefined\") ? {} : VEGA_DEBUG;\n",
       "  (function(spec, embedOpt){\n",
       "    let outputDiv = document.currentScript.previousElementSibling;\n",
       "    if (outputDiv.id !== \"altair-viz-ac90a6869a104f6d9e65d66194a578a7\") {\n",
       "      outputDiv = document.getElementById(\"altair-viz-ac90a6869a104f6d9e65d66194a578a7\");\n",
       "    }\n",
       "    const paths = {\n",
       "      \"vega\": \"https://cdn.jsdelivr.net/npm//vega@5?noext\",\n",
       "      \"vega-lib\": \"https://cdn.jsdelivr.net/npm//vega-lib?noext\",\n",
       "      \"vega-lite\": \"https://cdn.jsdelivr.net/npm//vega-lite@4.17.0?noext\",\n",
       "      \"vega-embed\": \"https://cdn.jsdelivr.net/npm//vega-embed@6?noext\",\n",
       "    };\n",
       "\n",
       "    function maybeLoadScript(lib, version) {\n",
       "      var key = `${lib.replace(\"-\", \"\")}_version`;\n",
       "      return (VEGA_DEBUG[key] == version) ?\n",
       "        Promise.resolve(paths[lib]) :\n",
       "        new Promise(function(resolve, reject) {\n",
       "          var s = document.createElement('script');\n",
       "          document.getElementsByTagName(\"head\")[0].appendChild(s);\n",
       "          s.async = true;\n",
       "          s.onload = () => {\n",
       "            VEGA_DEBUG[key] = version;\n",
       "            return resolve(paths[lib]);\n",
       "          };\n",
       "          s.onerror = () => reject(`Error loading script: ${paths[lib]}`);\n",
       "          s.src = paths[lib];\n",
       "        });\n",
       "    }\n",
       "\n",
       "    function showError(err) {\n",
       "      outputDiv.innerHTML = `<div class=\"error\" style=\"color:red;\">${err}</div>`;\n",
       "      throw err;\n",
       "    }\n",
       "\n",
       "    function displayChart(vegaEmbed) {\n",
       "      vegaEmbed(outputDiv, spec, embedOpt)\n",
       "        .catch(err => showError(`Javascript Error: ${err.message}<br>This usually means there's a typo in your chart specification. See the javascript console for the full traceback.`));\n",
       "    }\n",
       "\n",
       "    if(typeof define === \"function\" && define.amd) {\n",
       "      requirejs.config({paths});\n",
       "      require([\"vega-embed\"], displayChart, err => showError(`Error loading script: ${err.message}`));\n",
       "    } else {\n",
       "      maybeLoadScript(\"vega\", \"5\")\n",
       "        .then(() => maybeLoadScript(\"vega-lite\", \"4.17.0\"))\n",
       "        .then(() => maybeLoadScript(\"vega-embed\", \"6\"))\n",
       "        .catch(showError)\n",
       "        .then(() => displayChart(vegaEmbed));\n",
       "    }\n",
       "  })({\"config\": {\"view\": {\"continuousWidth\": 400, \"continuousHeight\": 300}}, \"layer\": [{\"data\": {\"url\": \"https://cdn.jsdelivr.net/npm/vega-datasets@v1.29.0/data/world-110m.json\", \"format\": {\"feature\": \"countries\", \"type\": \"topojson\"}}, \"mark\": {\"type\": \"geoshape\", \"fill\": \"lightgrey\", \"stroke\": \"orange\"}, \"projection\": {\"type\": \"naturalEarth1\"}}, {\"data\": {\"name\": \"data-157a52cd6ece75534a404f78536a004e\"}, \"mark\": {\"type\": \"point\", \"color\": \"red\", \"fill\": \"orange\", \"size\": 200}, \"encoding\": {\"href\": {\"field\": \"url\", \"type\": \"nominal\"}, \"latitude\": {\"field\": \"lat\", \"type\": \"quantitative\"}, \"longitude\": {\"field\": \"long\", \"type\": \"quantitative\"}, \"tooltip\": [{\"field\": \"name\", \"title\": \"Who\", \"type\": \"nominal\"}, {\"field\": \"inst\", \"title\": \"Where\", \"type\": \"nominal\"}]}, \"height\": 400, \"width\": 800}], \"$schema\": \"https://vega.github.io/schema/vega-lite/v4.17.0.json\", \"datasets\": {\"data-157a52cd6ece75534a404f78536a004e\": [{\"name\": \"Sergei Kosakovsky Pond\", \"city\": \"Philadelphia, PA, USA\", \"inst\": \"Temple\", \"url\": \"https://igem.temple.edu/people/person/e266d9a5b7f043109baecc3c340491f6\", \"lat\": 39.98075860123002, \"long\": -75.1557590587867, \"ln\": \"Kosakovsky\", \"linked\": \"[Sergei Kosakovsky Pond](https://igem.temple.edu/people/person/e266d9a5b7f043109baecc3c340491f6)\"}, {\"name\": \"Kateryna Makova\", \"city\": \"State College, PA, USA\", \"inst\": \"Penn State\", \"url\": \"http://www.bx.psu.edu/makova_lab/\", \"lat\": 40.798365676745384, \"long\": -77.86000346471721, \"ln\": \"Makova\", \"linked\": \"[Kateryna Makova](http://www.bx.psu.edu/makova_lab/)\"}, {\"name\": \"Mike Schatz\", \"city\": \"Baltimore, MD, USA\", \"inst\": \"Johns Hopkins\", \"url\": \"https://schatz-lab.org/\", \"lat\": 39.330092152960816, \"long\": -76.62053915879434, \"ln\": \"Schatz\", \"linked\": \"[Mike Schatz](https://schatz-lab.org/)\"}, {\"name\": \"Jeremy Goecks\", \"city\": \"Portland, OR, USA\", \"inst\": \"OHSU\", \"url\": \"https://goeckslab.org/\", \"lat\": 45.498707826473236, \"long\": -122.68548555752069, \"ln\": \"Goecks\", \"linked\": \"[Jeremy Goecks](https://goeckslab.org/)\"}, {\"name\": \"James Taylor\", \"city\": \"Baltimore, MD, USA\", \"inst\": \"Johns Hopkins\", \"url\": \"https://jxtxfoundation.org/\", \"lat\": 39.330092152960816, \"long\": -76.62053915879434, \"ln\": \"Taylor\", \"linked\": \"[James Taylor](https://jxtxfoundation.org/)\"}, {\"name\": \"Daniel Blankenberg\", \"city\": \"Cleveland, OH, USA\", \"inst\": \"Cleveland Clinic\", \"url\": \"https://www.lerner.ccf.org/gmi/blankenberg/\", \"lat\": 42.76395117876627, \"long\": -81.58921274683716, \"ln\": \"Blankenberg\", \"linked\": \"[Daniel Blankenberg](https://www.lerner.ccf.org/gmi/blankenberg/)\"}, {\"name\": \"Bj\\u00f6rn Gr\\u00fcning\", \"city\": \"Frieburg, Germany\", \"inst\": \"Albert-Ludwigs-Universit\\u00e4t Freiburg\", \"url\": \"https://github.com/bgruening\", \"lat\": 47.994467870512366, \"long\": 7.84479610073435, \"ln\": \"Gr\\u00fcning\", \"linked\": \"[Bj\\u00f6rn Gr\\u00fcning](https://github.com/bgruening)\"}, {\"name\": \"Andrew Lonie\", \"city\": \"Melbourne, Australia\", \"inst\": \"University of Melbourne\", \"url\": \"https://www.melbournebioinformatics.org.au/people/andrew-lonie/\", \"lat\": -37.79807459499058, \"long\": 144.96089889725928, \"ln\": \"Lonie\", \"linked\": \"[Andrew Lonie](https://www.melbournebioinformatics.org.au/people/andrew-lonie/)\"}, {\"name\": \"Ross Lazarus\", \"city\": \"Sydney, Australia\", \"inst\": \"galaxyproject.org\", \"url\": \"https://au.linkedin.com/in/rosslazarus\", \"lat\": -33.88909291137382, \"long\": 151.27649412491448, \"ln\": \"Lazarus\", \"linked\": \"[Ross Lazarus](https://au.linkedin.com/in/rosslazarus)\"}, {\"name\": \"Gareth Price\", \"city\": \"Brisbane, Australia\", \"inst\": \"University of Queensland\", \"url\": \"https://www.qcif.edu.au/team/gareth-price/\", \"lat\": -27.51498036745412, \"long\": 153.0302753079642, \"ln\": \"Price\", \"linked\": \"[Gareth Price](https://www.qcif.edu.au/team/gareth-price/)\"}, {\"name\": \"Giulio Formenti\", \"city\": \"New York, NY, USA\", \"inst\": \"The Rockefeller University\", \"url\": \"https://www.linkedin.com/in/giulio-formenti-20a8668a/\", \"lat\": 40.762641570219785, \"long\": -73.95565474469537, \"ln\": \"Formenti\", \"linked\": \"[Giulio Formenti](https://www.linkedin.com/in/giulio-formenti-20a8668a/)\"}]}}, {\"mode\": \"vega-lite\"});\n",
       "</script>"
      ],
      "text/plain": [
       "alt.LayerChart(...)"
      ]
     },
     "execution_count": 53,
     "metadata": {},
     "output_type": "execute_result"
    }
   ],
   "source": [
    "import altair as alt\n",
    "from vega_datasets import data\n",
    "\n",
    "countries = alt.topo_feature(data.world_110m.url, 'countries')\n",
    "\n",
    "m = alt.Chart(countries).mark_geoshape(\n",
    "    fill='lightgrey',\n",
    "    stroke='orange'\n",
    ").project(\n",
    "    \"naturalEarth1\"\n",
    ")\n",
    "c = alt.Chart(df).mark_point(color='red',size=200,fill='orange').encode(\n",
    "    longitude='long:Q',\n",
    "    latitude='lat:Q',\n",
    "    href='url',\n",
    "    tooltip=[\n",
    "        alt.Tooltip(\"name:N\",title='Who'),\n",
    "        alt.Tooltip(\"inst:N\",title='Where'),\n",
    "    ]\n",
    ").properties(\n",
    "    width=800,\n",
    "    height=400\n",
    ")\n",
    "m + c"
   ]
  }
 ],
 "metadata": {
  "kernelspec": {
   "display_name": "Python 3 (ipykernel)",
   "language": "python",
   "name": "python3"
  },
  "language_info": {
   "codemirror_mode": {
    "name": "ipython",
    "version": 3
   },
   "file_extension": ".py",
   "mimetype": "text/x-python",
   "name": "python",
   "nbconvert_exporter": "python",
   "pygments_lexer": "ipython3",
   "version": "3.10.6"
  }
 },
 "nbformat": 4,
 "nbformat_minor": 5
}
