{
 "cells": [
  {
   "cell_type": "code",
   "execution_count": 3,
   "id": "6fb793d3-1517-4ea3-8d3b-cd7a2cb3537e",
   "metadata": {},
   "outputs": [
    {
     "data": {
      "text/plain": [
       "RendererRegistry.enable('default')"
      ]
     },
     "execution_count": 3,
     "metadata": {},
     "output_type": "execute_result"
    }
   ],
   "source": [
    "import pandas as pd\n",
    "import altair as alt\n",
    "alt.renderers.enable(embed_options={'actions': False})"
   ]
  },
  {
   "cell_type": "code",
   "execution_count": 4,
   "id": "9d6a837b-420f-4a17-b0c2-d0df7d138652",
   "metadata": {},
   "outputs": [],
   "source": [
    "data = {\n",
    "    'name' : [\n",
    "        'Dave Bouvier', \n",
    "        'John Chilton',\n",
    "        'Nate Coraor',\n",
    "        'Assunta DeSanto',\n",
    "        'Jennifer Jackson', \n",
    "        'Delphine Lariviere',\n",
    "        'Han Mei',\n",
    "        'Anton Nekrutenko',\n",
    "        'Nick Stoler',\n",
    "        'Marius van den Beek'\n",
    "        ],\n",
    "    'order' : [\n",
    "        1,\n",
    "        2,\n",
    "        3,\n",
    "        4,\n",
    "        5,\n",
    "        6,\n",
    "        7,\n",
    "        8,\n",
    "        9,\n",
    "        0\n",
    "    ],\n",
    "    'country' : [\n",
    "        'USA, Norge',\n",
    "        'USA',\n",
    "        'USA',\n",
    "        'USA',\n",
    "        'USA',\n",
    "        'La France',\n",
    "        '中国',\n",
    "        'USA, Україна',\n",
    "        'USA',\n",
    "        'Deutschland, België'\n",
    "    ],\n",
    "    'github' : [\n",
    "        '@davebx',\n",
    "        '@jmchilton',\n",
    "        '@natefoo',\n",
    "        '@assuntad23',\n",
    "        '@jennaj',\n",
    "        '@Delphine-L',\n",
    "        '@hanmei5191',\n",
    "        '@nekrut',\n",
    "        '@NickSto',\n",
    "        '@mariusvdbeek'\n",
    "    ],\n",
    "    'pubmed' : [\n",
    "        'https://www.ncbi.nlm.nih.gov/pubmed/?term=nekrutenko+AND+bouvier',\n",
    "        'https://www.ncbi.nlm.nih.gov/pubmed/?term=nekrutenko+AND+chilton',\n",
    "        'https://www.ncbi.nlm.nih.gov/pubmed/?term=nekrutenko+AND+coraor',\n",
    "        '',\n",
    "        'https://pubmed.ncbi.nlm.nih.gov/15057822/',\n",
    "        'https://www.ncbi.nlm.nih.gov/pubmed/?term=nekrutenko+AND+lariviere',\n",
    "        'https://www.ncbi.nlm.nih.gov/pubmed/?term=nekrutenko+AND+mei',\n",
    "        'https://www.ncbi.nlm.nih.gov/pubmed/?term=nekrutenko',\n",
    "        'https://www.ncbi.nlm.nih.gov/pubmed/?term=nekrutenko+AND+stoler',\n",
    "        'https://www.ncbi.nlm.nih.gov/pubmed/?term=van%20den%20Beek%20M%5BAuthor%5D&cauthor=true&cauthor_uid=31112698'\n",
    "    ],\n",
    "    'yr' : [\n",
    "        2013,\n",
    "        2011,\n",
    "        2009,\n",
    "        2020,\n",
    "        2009,\n",
    "        2015,\n",
    "        2015,\n",
    "        2003,\n",
    "        2013,\n",
    "        2018\n",
    "    ],\n",
    "    'now' : [2022] * 10\n",
    "        \n",
    "}"
   ]
  },
  {
   "cell_type": "code",
   "execution_count": 5,
   "id": "f9b9f1c2-a58f-43a0-bfdc-d7a5920e02d8",
   "metadata": {},
   "outputs": [],
   "source": [
    "data = pd.DataFrame.from_dict(data)"
   ]
  },
  {
   "cell_type": "code",
   "execution_count": 6,
   "id": "886fe7b7-d7a4-48df-a7e0-ec976e9337b7",
   "metadata": {},
   "outputs": [],
   "source": [
    "data.to_csv('ttt.csv')"
   ]
  },
  {
   "cell_type": "code",
   "execution_count": 11,
   "id": "e8f9e340-6559-4804-b138-038958e53c8f",
   "metadata": {},
   "outputs": [],
   "source": [
    "rule = alt.Chart(data).mark_rule(strokeWidth=10).encode(\n",
    "    x = alt.X('yr:O',title=''),\n",
    "    x2 = alt.X2('now'),\n",
    "    y = alt.Y('name', sort=data.sort_values(by=['order'])['name'].values,title=\"\"),\n",
    "    color = alt.Color('country',sort=data['order'].values,title=None),\n",
    "    href='pubmed:N',\n",
    "    tooltip=[\n",
    "        alt.Tooltip(\"github:N\",title='GitHub ID'),\n",
    "    ]\n",
    ")\n",
    "\n",
    "start = rule.mark_circle(size=500,opacity=1).encode(\n",
    "    x = alt.X('yr:O'),\n",
    ")\n",
    "\n",
    "end = start.mark_circle(size=500,opacity=1).encode(\n",
    "    x = alt.X('now:O'),\n",
    "    y2 = alt.Y2('country')\n",
    ")\n",
    "\n",
    "\n",
    "(rule+start+end).properties(\n",
    "    width=500,\n",
    "    height=500\n",
    ").configure_axis(labelFontSize=14,\n",
    ").save('people.json')"
   ]
  },
  {
   "cell_type": "code",
   "execution_count": 12,
   "id": "cf319b48-c7fc-408f-b520-cf8c8550da64",
   "metadata": {},
   "outputs": [
    {
     "data": {
      "text/html": [
       "\n",
       "<div id=\"altair-viz-117b167e68ab4298b01c39d6d6d573a6\"></div>\n",
       "<script type=\"text/javascript\">\n",
       "  var VEGA_DEBUG = (typeof VEGA_DEBUG == \"undefined\") ? {} : VEGA_DEBUG;\n",
       "  (function(spec, embedOpt){\n",
       "    let outputDiv = document.currentScript.previousElementSibling;\n",
       "    if (outputDiv.id !== \"altair-viz-117b167e68ab4298b01c39d6d6d573a6\") {\n",
       "      outputDiv = document.getElementById(\"altair-viz-117b167e68ab4298b01c39d6d6d573a6\");\n",
       "    }\n",
       "    const paths = {\n",
       "      \"vega\": \"https://cdn.jsdelivr.net/npm//vega@5?noext\",\n",
       "      \"vega-lib\": \"https://cdn.jsdelivr.net/npm//vega-lib?noext\",\n",
       "      \"vega-lite\": \"https://cdn.jsdelivr.net/npm//vega-lite@4.17.0?noext\",\n",
       "      \"vega-embed\": \"https://cdn.jsdelivr.net/npm//vega-embed@6?noext\",\n",
       "    };\n",
       "\n",
       "    function maybeLoadScript(lib, version) {\n",
       "      var key = `${lib.replace(\"-\", \"\")}_version`;\n",
       "      return (VEGA_DEBUG[key] == version) ?\n",
       "        Promise.resolve(paths[lib]) :\n",
       "        new Promise(function(resolve, reject) {\n",
       "          var s = document.createElement('script');\n",
       "          document.getElementsByTagName(\"head\")[0].appendChild(s);\n",
       "          s.async = true;\n",
       "          s.onload = () => {\n",
       "            VEGA_DEBUG[key] = version;\n",
       "            return resolve(paths[lib]);\n",
       "          };\n",
       "          s.onerror = () => reject(`Error loading script: ${paths[lib]}`);\n",
       "          s.src = paths[lib];\n",
       "        });\n",
       "    }\n",
       "\n",
       "    function showError(err) {\n",
       "      outputDiv.innerHTML = `<div class=\"error\" style=\"color:red;\">${err}</div>`;\n",
       "      throw err;\n",
       "    }\n",
       "\n",
       "    function displayChart(vegaEmbed) {\n",
       "      vegaEmbed(outputDiv, spec, embedOpt)\n",
       "        .catch(err => showError(`Javascript Error: ${err.message}<br>This usually means there's a typo in your chart specification. See the javascript console for the full traceback.`));\n",
       "    }\n",
       "\n",
       "    if(typeof define === \"function\" && define.amd) {\n",
       "      requirejs.config({paths});\n",
       "      require([\"vega-embed\"], displayChart, err => showError(`Error loading script: ${err.message}`));\n",
       "    } else {\n",
       "      maybeLoadScript(\"vega\", \"5\")\n",
       "        .then(() => maybeLoadScript(\"vega-lite\", \"4.17.0\"))\n",
       "        .then(() => maybeLoadScript(\"vega-embed\", \"6\"))\n",
       "        .catch(showError)\n",
       "        .then(() => displayChart(vegaEmbed));\n",
       "    }\n",
       "  })({\"config\": {\"view\": {\"continuousWidth\": 400, \"continuousHeight\": 300}, \"axis\": {\"labelFontSize\": 14}}, \"layer\": [{\"mark\": {\"type\": \"rule\", \"strokeWidth\": 10}, \"encoding\": {\"color\": {\"field\": \"country\", \"sort\": [1.0, 2.0, 3.0, 4.0, 5.0, 6.0, 7.0, 8.0, 9.0, 0.0], \"title\": null, \"type\": \"nominal\"}, \"href\": {\"field\": \"pubmed\", \"type\": \"nominal\"}, \"tooltip\": [{\"field\": \"github\", \"title\": \"GitHub ID\", \"type\": \"nominal\"}], \"x\": {\"field\": \"yr\", \"title\": \"\", \"type\": \"ordinal\"}, \"x2\": {\"field\": \"now\"}, \"y\": {\"field\": \"name\", \"sort\": [\"Marius van den Beek\", \"Dave Bouvier\", \"John Chilton\", \"Nate Coraor\", \"Assunta DeSanto\", \"Jennifer Jackson\", \"Delphine Lariviere\", \"Han Mei\", \"Anton Nekrutenko\", \"Nick Stoler\"], \"title\": \"\", \"type\": \"nominal\"}}}, {\"mark\": {\"type\": \"circle\", \"opacity\": 1, \"size\": 500}, \"encoding\": {\"color\": {\"field\": \"country\", \"sort\": [1.0, 2.0, 3.0, 4.0, 5.0, 6.0, 7.0, 8.0, 9.0, 0.0], \"title\": null, \"type\": \"nominal\"}, \"href\": {\"field\": \"pubmed\", \"type\": \"nominal\"}, \"tooltip\": [{\"field\": \"github\", \"title\": \"GitHub ID\", \"type\": \"nominal\"}], \"x\": {\"field\": \"yr\", \"type\": \"ordinal\"}, \"x2\": {\"field\": \"now\"}, \"y\": {\"field\": \"name\", \"sort\": [\"Marius van den Beek\", \"Dave Bouvier\", \"John Chilton\", \"Nate Coraor\", \"Assunta DeSanto\", \"Jennifer Jackson\", \"Delphine Lariviere\", \"Han Mei\", \"Anton Nekrutenko\", \"Nick Stoler\"], \"title\": \"\", \"type\": \"nominal\"}}}, {\"mark\": {\"type\": \"circle\", \"opacity\": 1, \"size\": 500}, \"encoding\": {\"color\": {\"field\": \"country\", \"sort\": [1.0, 2.0, 3.0, 4.0, 5.0, 6.0, 7.0, 8.0, 9.0, 0.0], \"title\": null, \"type\": \"nominal\"}, \"href\": {\"field\": \"pubmed\", \"type\": \"nominal\"}, \"tooltip\": [{\"field\": \"github\", \"title\": \"GitHub ID\", \"type\": \"nominal\"}], \"x\": {\"field\": \"now\", \"type\": \"ordinal\"}, \"x2\": {\"field\": \"now\"}, \"y\": {\"field\": \"name\", \"sort\": [\"Marius van den Beek\", \"Dave Bouvier\", \"John Chilton\", \"Nate Coraor\", \"Assunta DeSanto\", \"Jennifer Jackson\", \"Delphine Lariviere\", \"Han Mei\", \"Anton Nekrutenko\", \"Nick Stoler\"], \"title\": \"\", \"type\": \"nominal\"}, \"y2\": {\"field\": \"country\"}}}], \"data\": {\"name\": \"data-06e52cf88531acb78d2a85c1a686fa33\"}, \"height\": 500, \"width\": 500, \"$schema\": \"https://vega.github.io/schema/vega-lite/v4.17.0.json\", \"datasets\": {\"data-06e52cf88531acb78d2a85c1a686fa33\": [{\"name\": \"Dave Bouvier\", \"order\": 1, \"country\": \"USA, Norge\", \"github\": \"@davebx\", \"pubmed\": \"https://www.ncbi.nlm.nih.gov/pubmed/?term=nekrutenko+AND+bouvier\", \"yr\": 2013, \"now\": 2022}, {\"name\": \"John Chilton\", \"order\": 2, \"country\": \"USA\", \"github\": \"@jmchilton\", \"pubmed\": \"https://www.ncbi.nlm.nih.gov/pubmed/?term=nekrutenko+AND+chilton\", \"yr\": 2011, \"now\": 2022}, {\"name\": \"Nate Coraor\", \"order\": 3, \"country\": \"USA\", \"github\": \"@natefoo\", \"pubmed\": \"https://www.ncbi.nlm.nih.gov/pubmed/?term=nekrutenko+AND+coraor\", \"yr\": 2009, \"now\": 2022}, {\"name\": \"Assunta DeSanto\", \"order\": 4, \"country\": \"USA\", \"github\": \"@assuntad23\", \"pubmed\": \"\", \"yr\": 2020, \"now\": 2022}, {\"name\": \"Jennifer Jackson\", \"order\": 5, \"country\": \"USA\", \"github\": \"@jennaj\", \"pubmed\": \"https://pubmed.ncbi.nlm.nih.gov/15057822/\", \"yr\": 2009, \"now\": 2022}, {\"name\": \"Delphine Lariviere\", \"order\": 6, \"country\": \"La France\", \"github\": \"@Delphine-L\", \"pubmed\": \"https://www.ncbi.nlm.nih.gov/pubmed/?term=nekrutenko+AND+lariviere\", \"yr\": 2015, \"now\": 2022}, {\"name\": \"Han Mei\", \"order\": 7, \"country\": \"\\u4e2d\\u56fd\", \"github\": \"@hanmei5191\", \"pubmed\": \"https://www.ncbi.nlm.nih.gov/pubmed/?term=nekrutenko+AND+mei\", \"yr\": 2015, \"now\": 2022}, {\"name\": \"Anton Nekrutenko\", \"order\": 8, \"country\": \"USA, \\u0423\\u043a\\u0440\\u0430\\u0457\\u043d\\u0430\", \"github\": \"@nekrut\", \"pubmed\": \"https://www.ncbi.nlm.nih.gov/pubmed/?term=nekrutenko\", \"yr\": 2003, \"now\": 2022}, {\"name\": \"Nick Stoler\", \"order\": 9, \"country\": \"USA\", \"github\": \"@NickSto\", \"pubmed\": \"https://www.ncbi.nlm.nih.gov/pubmed/?term=nekrutenko+AND+stoler\", \"yr\": 2013, \"now\": 2022}, {\"name\": \"Marius van den Beek\", \"order\": 0, \"country\": \"Deutschland, Belgi\\u00eb\", \"github\": \"@mariusvdbeek\", \"pubmed\": \"https://www.ncbi.nlm.nih.gov/pubmed/?term=van%20den%20Beek%20M%5BAuthor%5D&cauthor=true&cauthor_uid=31112698\", \"yr\": 2018, \"now\": 2022}]}}, {\"actions\": false, \"mode\": \"vega-lite\"});\n",
       "</script>"
      ],
      "text/plain": [
       "alt.LayerChart(...)"
      ]
     },
     "execution_count": 12,
     "metadata": {},
     "output_type": "execute_result"
    }
   ],
   "source": [
    "(rule+start+end).properties(\n",
    "    width=500,\n",
    "    height=500\n",
    ").configure_axis(labelFontSize=14,\n",
    ")"
   ]
  },
  {
   "cell_type": "code",
   "execution_count": null,
   "id": "1177479c-3753-4d68-9c61-93aa330c3ff7",
   "metadata": {},
   "outputs": [],
   "source": []
  }
 ],
 "metadata": {
  "kernelspec": {
   "display_name": "Python 3 (ipykernel)",
   "language": "python",
   "name": "python3"
  },
  "language_info": {
   "codemirror_mode": {
    "name": "ipython",
    "version": 3
   },
   "file_extension": ".py",
   "mimetype": "text/x-python",
   "name": "python",
   "nbconvert_exporter": "python",
   "pygments_lexer": "ipython3",
   "version": "3.10.8"
  }
 },
 "nbformat": 4,
 "nbformat_minor": 5
}
