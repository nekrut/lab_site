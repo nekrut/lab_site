{
 "cells": [
  {
   "cell_type": "code",
   "execution_count": 1,
   "id": "5e892e39-de13-48a6-9782-7cf18461493a",
   "metadata": {},
   "outputs": [
    {
     "data": {
      "text/plain": [
       "RendererRegistry.enable('default')"
      ]
     },
     "execution_count": 1,
     "metadata": {},
     "output_type": "execute_result"
    }
   ],
   "source": [
    "import pandas as pd\n",
    "import altair as alt\n",
    "alt.renderers.enable(embed_options={'actions': False})"
   ]
  },
  {
   "cell_type": "markdown",
   "id": "bf8b08c3-c806-4259-8725-54b23267d496",
   "metadata": {},
   "source": [
    "The file below is obtained by going to  https://icite.od.nih.gov/"
   ]
  },
  {
   "cell_type": "code",
   "execution_count": 2,
   "id": "15cf686b-f824-48da-bea9-bcd6881f8701",
   "metadata": {},
   "outputs": [],
   "source": [
    "df = pd.read_excel('/Users/anton/Downloads/open_report.xlsx')"
   ]
  },
  {
   "cell_type": "code",
   "execution_count": 3,
   "id": "dd83366f-206a-4bab-a8c6-bd4e944f8cad",
   "metadata": {},
   "outputs": [
    {
     "data": {
      "text/html": [
       "<div>\n",
       "<style scoped>\n",
       "    .dataframe tbody tr th:only-of-type {\n",
       "        vertical-align: middle;\n",
       "    }\n",
       "\n",
       "    .dataframe tbody tr th {\n",
       "        vertical-align: top;\n",
       "    }\n",
       "\n",
       "    .dataframe thead th {\n",
       "        text-align: right;\n",
       "    }\n",
       "</style>\n",
       "<table border=\"1\" class=\"dataframe\">\n",
       "  <thead>\n",
       "    <tr style=\"text-align: right;\">\n",
       "      <th></th>\n",
       "      <th>PMID</th>\n",
       "      <th>Year</th>\n",
       "      <th>Title</th>\n",
       "      <th>Authors</th>\n",
       "      <th>Journal</th>\n",
       "      <th>Article</th>\n",
       "      <th>Total Citations</th>\n",
       "      <th>Cited By PMIDs</th>\n",
       "      <th>Total References</th>\n",
       "      <th>Cited PMIDs</th>\n",
       "      <th>DOI</th>\n",
       "    </tr>\n",
       "  </thead>\n",
       "  <tbody>\n",
       "    <tr>\n",
       "      <th>0</th>\n",
       "      <td>10447864</td>\n",
       "      <td>1999</td>\n",
       "      <td>Representational difference analysis to distin...</td>\n",
       "      <td>A Nekrutenko, K D Makova, R K Chesser, R J Baker</td>\n",
       "      <td>Mol Ecol</td>\n",
       "      <td>Yes</td>\n",
       "      <td>3</td>\n",
       "      <td>10831837 12657471 24795189</td>\n",
       "      <td>4</td>\n",
       "      <td>8585127 8438152 8678980 8531693</td>\n",
       "      <td>10.1046/j.1365-294x.1999.00682_1.x</td>\n",
       "    </tr>\n",
       "    <tr>\n",
       "      <th>1</th>\n",
       "      <td>10831837</td>\n",
       "      <td>2000</td>\n",
       "      <td>Isolation of binary species-specific PCR-based...</td>\n",
       "      <td>A Nekrutenko, K D Makova, R J Baker</td>\n",
       "      <td>Gene</td>\n",
       "      <td>Yes</td>\n",
       "      <td>8</td>\n",
       "      <td>21641975 20851546 30042618 12803650 31608116 1...</td>\n",
       "      <td>10</td>\n",
       "      <td>8585127 8812464 10447864 9880669 9736728 11975...</td>\n",
       "      <td>10.1016/s0378-1119(00)00168-2</td>\n",
       "    </tr>\n",
       "  </tbody>\n",
       "</table>\n",
       "</div>"
      ],
      "text/plain": [
       "       PMID  Year                                              Title  \\\n",
       "0  10447864  1999  Representational difference analysis to distin...   \n",
       "1  10831837  2000  Isolation of binary species-specific PCR-based...   \n",
       "\n",
       "                                            Authors   Journal Article  \\\n",
       "0  A Nekrutenko, K D Makova, R K Chesser, R J Baker  Mol Ecol     Yes   \n",
       "1               A Nekrutenko, K D Makova, R J Baker      Gene     Yes   \n",
       "\n",
       "   Total Citations                                     Cited By PMIDs  \\\n",
       "0                3                         10831837 12657471 24795189   \n",
       "1                8  21641975 20851546 30042618 12803650 31608116 1...   \n",
       "\n",
       "   Total References                                        Cited PMIDs  \\\n",
       "0                 4                    8585127 8438152 8678980 8531693   \n",
       "1                10  8585127 8812464 10447864 9880669 9736728 11975...   \n",
       "\n",
       "                                  DOI  \n",
       "0  10.1046/j.1365-294x.1999.00682_1.x  \n",
       "1       10.1016/s0378-1119(00)00168-2  "
      ]
     },
     "execution_count": 3,
     "metadata": {},
     "output_type": "execute_result"
    }
   ],
   "source": [
    "df.head(2)"
   ]
  },
  {
   "cell_type": "code",
   "execution_count": 4,
   "id": "d9236f3d-3b62-4282-8525-41190a81a05e",
   "metadata": {},
   "outputs": [],
   "source": [
    "df = df[['PMID','Journal','Year','Total Citations','Title','Authors']]"
   ]
  },
  {
   "cell_type": "code",
   "execution_count": 5,
   "id": "0429359c-d8c2-4087-8d9a-97c46438a293",
   "metadata": {},
   "outputs": [],
   "source": [
    "df.to_csv('/Users/anton/git/lab_site/graph_data/pubs.csv',index=False)"
   ]
  },
  {
   "cell_type": "code",
   "execution_count": 7,
   "id": "d9991451-cf8c-435d-80d4-d64f96862527",
   "metadata": {},
   "outputs": [
    {
     "data": {
      "text/html": [
       "\n",
       "<div id=\"altair-viz-a75677adbae4472c9959f6fc55cb1c39\"></div>\n",
       "<script type=\"text/javascript\">\n",
       "  var VEGA_DEBUG = (typeof VEGA_DEBUG == \"undefined\") ? {} : VEGA_DEBUG;\n",
       "  (function(spec, embedOpt){\n",
       "    let outputDiv = document.currentScript.previousElementSibling;\n",
       "    if (outputDiv.id !== \"altair-viz-a75677adbae4472c9959f6fc55cb1c39\") {\n",
       "      outputDiv = document.getElementById(\"altair-viz-a75677adbae4472c9959f6fc55cb1c39\");\n",
       "    }\n",
       "    const paths = {\n",
       "      \"vega\": \"https://cdn.jsdelivr.net/npm//vega@5?noext\",\n",
       "      \"vega-lib\": \"https://cdn.jsdelivr.net/npm//vega-lib?noext\",\n",
       "      \"vega-lite\": \"https://cdn.jsdelivr.net/npm//vega-lite@4.17.0?noext\",\n",
       "      \"vega-embed\": \"https://cdn.jsdelivr.net/npm//vega-embed@6?noext\",\n",
       "    };\n",
       "\n",
       "    function maybeLoadScript(lib, version) {\n",
       "      var key = `${lib.replace(\"-\", \"\")}_version`;\n",
       "      return (VEGA_DEBUG[key] == version) ?\n",
       "        Promise.resolve(paths[lib]) :\n",
       "        new Promise(function(resolve, reject) {\n",
       "          var s = document.createElement('script');\n",
       "          document.getElementsByTagName(\"head\")[0].appendChild(s);\n",
       "          s.async = true;\n",
       "          s.onload = () => {\n",
       "            VEGA_DEBUG[key] = version;\n",
       "            return resolve(paths[lib]);\n",
       "          };\n",
       "          s.onerror = () => reject(`Error loading script: ${paths[lib]}`);\n",
       "          s.src = paths[lib];\n",
       "        });\n",
       "    }\n",
       "\n",
       "    function showError(err) {\n",
       "      outputDiv.innerHTML = `<div class=\"error\" style=\"color:red;\">${err}</div>`;\n",
       "      throw err;\n",
       "    }\n",
       "\n",
       "    function displayChart(vegaEmbed) {\n",
       "      vegaEmbed(outputDiv, spec, embedOpt)\n",
       "        .catch(err => showError(`Javascript Error: ${err.message}<br>This usually means there's a typo in your chart specification. See the javascript console for the full traceback.`));\n",
       "    }\n",
       "\n",
       "    if(typeof define === \"function\" && define.amd) {\n",
       "      requirejs.config({paths});\n",
       "      require([\"vega-embed\"], displayChart, err => showError(`Error loading script: ${err.message}`));\n",
       "    } else {\n",
       "      maybeLoadScript(\"vega\", \"5\")\n",
       "        .then(() => maybeLoadScript(\"vega-lite\", \"4.17.0\"))\n",
       "        .then(() => maybeLoadScript(\"vega-embed\", \"6\"))\n",
       "        .catch(showError)\n",
       "        .then(() => displayChart(vegaEmbed));\n",
       "    }\n",
       "  })({\"config\": {\"view\": {\"continuousWidth\": 400, \"continuousHeight\": 300}, \"axisY\": {\"labelAlign\": \"left\", \"labelFontStyle\": \"italic\", \"labelPadding\": 150, \"titleAngle\": 0, \"titleX\": -50, \"titleY\": 0}, \"mark\": {\"stroke\": \"black\"}}, \"data\": {\"url\": \"https://raw.githubusercontent.com/nekrut/lab_site/master/graph_data/pubs.csv\"}, \"mark\": {\"type\": \"rect\", \"stroke\": \"white\"}, \"encoding\": {\"color\": {\"field\": \"Total Citations\", \"scale\": {\"scheme\": \"yelloworangered\"}, \"sort\": [\"Annu Rev Genomics Hum Genet\", \"Bioinformatics\", \"bioRxiv\", \"Biotechniques\", \"BMC Bioinformatics\", \"BMC Genomics\", \"BMC Microbiol\", \"Cell Genom\", \"Cell Syst\", \"Cold Spring Harb Protoc\", \"Concurr Comput\", \"Curr Protoc\", \"Curr Protoc Bioinformatics\", \"Curr Protoc Mol Biol\", \"Database (Oxford)\", \"Gene\", \"Genome Biol\", \"Genome Biol Evol\", \"Genome Res\", \"Gigascience\", \"J Mol Evol\", \"J Struct Funct Genomics\", \"Methods Mol Biol\", \"Mol Biol Evol\", \"Mol Ecol\", \"NAR Genom Bioinform\", \"Nat Biotechnol\", \"Nat Commun\", \"Nat Methods\", \"Nat Rev Genet\", \"Nature\", \"Nucleic Acids Res\", \"PLoS Comput Biol\", \"PLoS Genet\", \"PLoS One\", \"PLoS Pathog\", \"Proc Natl Acad Sci U S A\", \"Sci Rep\", \"Summit Transl Bioinform\", \"Trends Genet\"], \"type\": \"quantitative\"}, \"href\": {\"field\": \"link\", \"type\": \"nominal\"}, \"tooltip\": [{\"field\": \"Title\", \"type\": \"nominal\"}, {\"field\": \"Authors\", \"type\": \"nominal\"}], \"x\": {\"field\": \"Year\", \"title\": \"\", \"type\": \"nominal\"}, \"y\": {\"field\": \"Journal\", \"sort\": [\"Annu Rev Genomics Hum Genet\", \"Bioinformatics\", \"bioRxiv\", \"Biotechniques\", \"BMC Bioinformatics\", \"BMC Genomics\", \"BMC Microbiol\", \"Cell Genom\", \"Cell Syst\", \"Cold Spring Harb Protoc\", \"Concurr Comput\", \"Curr Protoc\", \"Curr Protoc Bioinformatics\", \"Curr Protoc Mol Biol\", \"Database (Oxford)\", \"Gene\", \"Genome Biol\", \"Genome Biol Evol\", \"Genome Res\", \"Gigascience\", \"J Mol Evol\", \"J Struct Funct Genomics\", \"Methods Mol Biol\", \"Mol Biol Evol\", \"Mol Ecol\", \"NAR Genom Bioinform\", \"Nat Biotechnol\", \"Nat Commun\", \"Nat Methods\", \"Nat Rev Genet\", \"Nature\", \"Nucleic Acids Res\", \"PLoS Comput Biol\", \"PLoS Genet\", \"PLoS One\", \"PLoS Pathog\", \"Proc Natl Acad Sci U S A\", \"Sci Rep\", \"Summit Transl Bioinform\", \"Trends Genet\"], \"title\": \"\", \"type\": \"nominal\"}}, \"height\": 500, \"transform\": [{\"calculate\": \"(('https://pubmed.ncbi.nlm.nih.gov/' + datum.PMID) + '/')\", \"as\": \"link\"}], \"width\": 500, \"$schema\": \"https://vega.github.io/schema/vega-lite/v4.17.0.json\"}, {\"actions\": false, \"mode\": \"vega-lite\"});\n",
       "</script>"
      ],
      "text/plain": [
       "alt.Chart(...)"
      ]
     },
     "execution_count": 7,
     "metadata": {},
     "output_type": "execute_result"
    }
   ],
   "source": [
    "url = 'https://raw.githubusercontent.com/nekrut/lab_site/master/graph_data/pubs.csv'\n",
    "sort = df.iloc[df['Journal'].str.lower().argsort()]['Journal'].unique()\n",
    "\n",
    "grid = alt.Chart(url).mark_rect(stroke='white').transform_calculate(\n",
    "    link='https://pubmed.ncbi.nlm.nih.gov/' + alt.datum.PMID + '/'\n",
    ").encode(\n",
    "    y = alt.X('Journal:N',\n",
    "              sort = sort,\n",
    "             title=\"\"),\n",
    "    x = alt.X('Year:N',title=\"\"),\n",
    "    color=alt.Color('Total Citations:Q', scale=alt.Scale(scheme=\"yelloworangered\"),sort = sort),\n",
    "    #size='Total Citations:Q',\n",
    "    href='link:N',\n",
    "    tooltip=[\n",
    "        alt.Tooltip(\"Title:N\"),\n",
    "        alt.Tooltip(\"Authors:N\")\n",
    "    ]\n",
    ").properties(\n",
    "       width=500,\n",
    "       height=500\n",
    "    ).configure_axisY(\n",
    "    titleAngle=0, \n",
    "    titleY=-0,\n",
    "    titleX=-50,\n",
    "    labelPadding=150, \n",
    "    labelAlign='left',\n",
    "    labelFontStyle='italic'\n",
    ").configure_mark(stroke='black')\n",
    "\n",
    "grid"
   ]
  },
  {
   "cell_type": "code",
   "execution_count": null,
   "id": "e123d506-071f-4311-a3ed-e6fc83625e1e",
   "metadata": {},
   "outputs": [],
   "source": []
  }
 ],
 "metadata": {
  "kernelspec": {
   "display_name": "Python 3 (ipykernel)",
   "language": "python",
   "name": "python3"
  },
  "language_info": {
   "codemirror_mode": {
    "name": "ipython",
    "version": 3
   },
   "file_extension": ".py",
   "mimetype": "text/x-python",
   "name": "python",
   "nbconvert_exporter": "python",
   "pygments_lexer": "ipython3",
   "version": "3.10.8"
  }
 },
 "nbformat": 4,
 "nbformat_minor": 5
}
